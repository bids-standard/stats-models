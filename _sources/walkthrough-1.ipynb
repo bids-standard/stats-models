{
 "cells": [
  {
   "cell_type": "markdown",
   "id": "c9dc0779",
   "metadata": {},
   "source": [
    "# Representing multi-stage neuroimaging models\n",
    "\n",
    "The statistical analysis of neuroimaging data typically occurs \n",
    "across distinct stages of analysis, \n",
    "with parameter estimates from lower levels of analysis propagating \n",
    "to higher levels for subsequent analysis.\n",
    "\n",
    "For example, in fMRI it is common to first fit \n",
    "a design matrix to run-level time series \n",
    "followed by a fixed-effects model to combine estimates at the subject-level. \n",
    "Finally, a dataset-level (or \"group level\") random-effects one-sample t-test \n",
    "can be performed to estimate population level effects. \n",
    "At each level of the analysis, we need to know \n",
    "which image inputs correspond to which design matrix, \n",
    "and more how to keep track of and combine outputs from the previous level \n",
    "at the current level of analysis.\n",
    "\n",
    "_BIDS Stats Models_ proposes a general machine-readable document \n",
    "to describe multi-stage neuroimaging analyses in a precise, yet flexible manner. \n",
    "We accomplish this by defining a _graph_ composed of **Nodes** representing each level of the analysis \n",
    "and **Edges** which define the flow of data from one Node to another. \n",
    "Within each {py:class}`~bsmschema.models.Node` we specify \n",
    "a {py:class}`~bsmschema.models.Model` to estimate, \n",
    "and at least one {py:class}`~bsmschema.models.Contrast` \n",
    "to define the computed outputs of each `Node`. \n",
    "Within each node we also specify how to group the incoming inputs \n",
    "into analysis units using the {py:attr}`~bsmschema.models.Node.GroupBy` directive.\n",
    "\n",
    "## A simple example\n",
    "\n",
    "In a [Simon task](https://openneuro.org/datasets/ds000101/versions/00004),\n",
    "participants were scanned for 2 runs and asked to indicate whether a diamond\n",
    "that was presented to the left or right of a central fixation cross was green or red. \n",
    "There were two conditions: color-spatial _congruent_ and _incongruent_ trials.\n",
    "\n",
    "A basic analysis of this task is to determine \n",
    "which regions showed _greater activity for incongruent versus congruent trials_, \n",
    "across all participants.\n",
    "\n",
    "We can perform this analysis by first estimating a **run-level** timeseries model \n",
    "for \"Incongruent\" and \"Congruent\" trials--separately for each individual run. \n",
    "We then compute a contrast comparing _Incongruent > Congruent_ (IvC) trials. \n",
    "\n",
    "Next, we pass the resulting statistical maps for the contrast to a **subject-level** estimator, \n",
    "which computes the average _IvC_ effect for each subject separately. \n",
    "\n",
    "Finally, we pass the resulting estimates to a **dataset-level** estimator, \n",
    "which conduts a one-sample t-test across all of the subject estimates for the _IvC_ contrast.\n",
    "\n",
    "Let's visualize this model for 3 participants:\n",
    "\n",
    "![flow](images/flow_model.png)\n",
    "\n",
    "We can formally represent this analysis as **BIDS Stats Model**:\n",
    "\n",
    "```{literalinclude} examples/model-walkthrough_smdl.json\n",
    ":language: JSON\n",
    "```\n",
    "\n",
    "BIDS Stats Models *must* have a {py:attr}`~bsmschema.models.BIDSStatsModel.Name` \n",
    "and {py:attr}`~bsmschema.models.BIDSStatsModel.BIDSModelVersion` defined, \n",
    "and optionally can restrict input images with {py:attr}`~bsmschema.models.BIDSStatsModel.Input`.\n",
    "\n",
    "```{note}\n",
    "For this example, we have limited the model to three subjects using the `Input` key.\n",
    "```\n",
    "\n",
    "_BIDS Stats Models_ defines this multi-stage analysis as a Graph, \n",
    "with each level of analysis defined as a separate `Node` object. \n",
    "Let's step through each `Node` separately. \n",
    "\n",
    "### Run-level Model\n",
    "\n",
    "First, we define a `Node` for the run level analysis.\n",
    "\n",
    "```{literalinclude} examples/model-walkthrough_smdl.json\n",
    ":language: JSON\n",
    ":lines: 6-19\n",
    "```\n",
    "\n",
    "Note that the {py:attr}`~bsmschema.models.Node.Level` key is necessary \n",
    "for determining which input images are available to the estimator. \n",
    "At the `Run` level, there are many sources of possible variables, \n",
    "most notably `_events.tsv` files which define the timing of task-related events.\n",
    "\n",
    "Next we define a {py:attr}`~bsmschema.models.Model` for this node.\n",
    "\n",
    "```{literalinclude} examples/model-walkthrough_smdl.json\n",
    ":language: JSON\n",
    ":start-at: '\"Model\": {\"X\": [1,'\n",
    ":lines: 1\n",
    "```\n",
    "\n",
    "The {py:attr}`~bsmschema.models.Model.X` parameter defines the variables in the design matrix. \n",
    "Here, we are modeling the `incongruent` and `congruent` trial types, \n",
    "in addition to an intercept (identified by the special key: `1`).\n",
    "\n",
    "Next, we specify an *Incongruent-Congruent (IvC)* contrast \n",
    "using the {py:attr}`~bsmschema.models.Contrast` key:\n",
    "\n",
    "```{literalinclude} examples/model-walkthrough_smdl.json\n",
    ":language: JSON\n",
    ":lines: 11-18\n",
    "```\n",
    "\n",
    "If you have used other fMRI modeling tools this should be familar. \n",
    "We have specified a t-test contrast with the weights `[1, -1]` for the conditions:\n",
    "`[\"incongruent\", \"congruent\"]` and given this contrast the name `IvC`.\n",
    "\n",
    "```{attention}\n",
    "`Contrasts` **define the outputs** that will be available to the next `Node`.\n",
    "\n",
    "Since we only modeled a single contrast (`IvC`), \n",
    "the next `Node` will not have access to estimates \n",
    "for main effects for the `congruent` or `incongruent` conditions, \n",
    "unless we explicitly define a `Contrast` for each.\n",
    "```\n",
    "\n",
    "#### How to _group_ analysis inputs?\n",
    "\n",
    "An underappreciated factor in multi-stage models is \n",
    "the grouping of image inputs into analysis units. \n",
    "For example, here we want to estimate a timeseries model for each `Run` separately, \n",
    "rather that concatenating all runs for each subject into one large model.\n",
    "\n",
    "We must explicitly define this grouping structure \n",
    "using the {py:attr}`~bsmschema.models.Node.GroupBy` key for every node. \n",
    "To fit a separate time series model for each individual run image, we specify:\n",
    "\n",
    "\n",
    "```{literalinclude} examples/model-walkthrough_smdl.json\n",
    ":language: JSON\n",
    ":start-at: ' \"GroupBy\": [\"run\", \"subject\"]'\n",
    ":lines: 1\n",
    "```\n",
    "\n",
    "Here, `GroupBy` states that for every unique combination of `run` and `subject`,\n",
    "we will fit a separate model. This results in a single input image per model.\n",
    "\n",
    "If you are familar with tabular data such as R `DataFrames`, or `pandas`, \n",
    "the `GroupBy` operation should be familar. \n",
    "For instance, given three subjects with two runs each, we can define 6 rows in a table (3x2):"
   ]
  },
  {
   "cell_type": "code",
   "execution_count": 1,
   "id": "aee98a3a",
   "metadata": {
    "tags": [
     "remove_input"
    ]
   },
   "outputs": [
    {
     "data": {
      "text/html": [
       "<style type=\"text/css\">\n",
       "</style>\n",
       "<table id=\"T_8d85c\">\n",
       "  <thead>\n",
       "    <tr>\n",
       "      <th id=\"T_8d85c_level0_col0\" class=\"col_heading level0 col0\" >subject</th>\n",
       "      <th id=\"T_8d85c_level0_col1\" class=\"col_heading level0 col1\" >run</th>\n",
       "      <th id=\"T_8d85c_level0_col2\" class=\"col_heading level0 col2\" >image</th>\n",
       "    </tr>\n",
       "  </thead>\n",
       "  <tbody>\n",
       "    <tr>\n",
       "      <td id=\"T_8d85c_row0_col0\" class=\"data row0 col0\" >01</td>\n",
       "      <td id=\"T_8d85c_row0_col1\" class=\"data row0 col1\" >1</td>\n",
       "      <td id=\"T_8d85c_row0_col2\" class=\"data row0 col2\" >sub-01_task-simon_run-1_bold.nii.gz</td>\n",
       "    </tr>\n",
       "    <tr>\n",
       "      <td id=\"T_8d85c_row1_col0\" class=\"data row1 col0\" >01</td>\n",
       "      <td id=\"T_8d85c_row1_col1\" class=\"data row1 col1\" >2</td>\n",
       "      <td id=\"T_8d85c_row1_col2\" class=\"data row1 col2\" >sub-01_task-simon_run-2_bold.nii.gz</td>\n",
       "    </tr>\n",
       "    <tr>\n",
       "      <td id=\"T_8d85c_row2_col0\" class=\"data row2 col0\" >02</td>\n",
       "      <td id=\"T_8d85c_row2_col1\" class=\"data row2 col1\" >1</td>\n",
       "      <td id=\"T_8d85c_row2_col2\" class=\"data row2 col2\" >sub-02_task-simon_run-1_bold.nii.gz</td>\n",
       "    </tr>\n",
       "    <tr>\n",
       "      <td id=\"T_8d85c_row3_col0\" class=\"data row3 col0\" >02</td>\n",
       "      <td id=\"T_8d85c_row3_col1\" class=\"data row3 col1\" >2</td>\n",
       "      <td id=\"T_8d85c_row3_col2\" class=\"data row3 col2\" >sub-02_task-simon_run-2_bold.nii.gz</td>\n",
       "    </tr>\n",
       "    <tr>\n",
       "      <td id=\"T_8d85c_row4_col0\" class=\"data row4 col0\" >03</td>\n",
       "      <td id=\"T_8d85c_row4_col1\" class=\"data row4 col1\" >1</td>\n",
       "      <td id=\"T_8d85c_row4_col2\" class=\"data row4 col2\" >sub-03_task-simon_run-1_bold.nii.gz</td>\n",
       "    </tr>\n",
       "    <tr>\n",
       "      <td id=\"T_8d85c_row5_col0\" class=\"data row5 col0\" >03</td>\n",
       "      <td id=\"T_8d85c_row5_col1\" class=\"data row5 col1\" >2</td>\n",
       "      <td id=\"T_8d85c_row5_col2\" class=\"data row5 col2\" >sub-03_task-simon_run-2_bold.nii.gz</td>\n",
       "    </tr>\n",
       "  </tbody>\n",
       "</table>\n"
      ],
      "text/plain": [
       "<pandas.io.formats.style.Styler at 0x7fe5cc3c60d0>"
      ]
     },
     "metadata": {},
     "output_type": "display_data"
    }
   ],
   "source": [
    "from IPython.display import display\n",
    "import pandas as pd\n",
    "pd.set_option('display.max_colwidth', None)\n",
    "\n",
    "subjects = [\"01\", \"02\", \"03\"]\n",
    "runs = [1, 2]\n",
    "# For later use\n",
    "contrasts = [\"IvC\"]\n",
    "stats = [\"effect\", \"variance\"]\n",
    "\n",
    "def display_groups(df, groups):\n",
    "    for group in df.groupby(groups, as_index=False):\n",
    "        display(group[1].style.hide(axis=\"index\"))\n",
    "\n",
    "inputs = pd.DataFrame.from_records(\n",
    "  [{\n",
    "     \"subject\": subject,\n",
    "     \"run\": run,\n",
    "     \"image\": f\"sub-{subject}_task-simon_run-{run}_bold.nii.gz\",\n",
    "   } for subject in subjects for run in runs]\n",
    ")\n",
    "display(inputs.style.hide(axis=\"index\"))"
   ]
  },
  {
   "cell_type": "markdown",
   "id": "dce419c6",
   "metadata": {},
   "source": [
    "If we `GroupBy` *subject*, there would be three groups of images--one for each subject:"
   ]
  },
  {
   "cell_type": "code",
   "execution_count": 2,
   "id": "b935da25",
   "metadata": {
    "tags": [
     "remove_input"
    ]
   },
   "outputs": [
    {
     "data": {
      "text/html": [
       "<style type=\"text/css\">\n",
       "</style>\n",
       "<table id=\"T_23219\">\n",
       "  <thead>\n",
       "    <tr>\n",
       "      <th id=\"T_23219_level0_col0\" class=\"col_heading level0 col0\" >subject</th>\n",
       "      <th id=\"T_23219_level0_col1\" class=\"col_heading level0 col1\" >run</th>\n",
       "      <th id=\"T_23219_level0_col2\" class=\"col_heading level0 col2\" >image</th>\n",
       "    </tr>\n",
       "  </thead>\n",
       "  <tbody>\n",
       "    <tr>\n",
       "      <td id=\"T_23219_row0_col0\" class=\"data row0 col0\" >01</td>\n",
       "      <td id=\"T_23219_row0_col1\" class=\"data row0 col1\" >1</td>\n",
       "      <td id=\"T_23219_row0_col2\" class=\"data row0 col2\" >sub-01_task-simon_run-1_bold.nii.gz</td>\n",
       "    </tr>\n",
       "    <tr>\n",
       "      <td id=\"T_23219_row1_col0\" class=\"data row1 col0\" >01</td>\n",
       "      <td id=\"T_23219_row1_col1\" class=\"data row1 col1\" >2</td>\n",
       "      <td id=\"T_23219_row1_col2\" class=\"data row1 col2\" >sub-01_task-simon_run-2_bold.nii.gz</td>\n",
       "    </tr>\n",
       "  </tbody>\n",
       "</table>\n"
      ],
      "text/plain": [
       "<pandas.io.formats.style.Styler at 0x7fe5e4c99550>"
      ]
     },
     "metadata": {},
     "output_type": "display_data"
    },
    {
     "data": {
      "text/html": [
       "<style type=\"text/css\">\n",
       "</style>\n",
       "<table id=\"T_da0bf\">\n",
       "  <thead>\n",
       "    <tr>\n",
       "      <th id=\"T_da0bf_level0_col0\" class=\"col_heading level0 col0\" >subject</th>\n",
       "      <th id=\"T_da0bf_level0_col1\" class=\"col_heading level0 col1\" >run</th>\n",
       "      <th id=\"T_da0bf_level0_col2\" class=\"col_heading level0 col2\" >image</th>\n",
       "    </tr>\n",
       "  </thead>\n",
       "  <tbody>\n",
       "    <tr>\n",
       "      <td id=\"T_da0bf_row0_col0\" class=\"data row0 col0\" >02</td>\n",
       "      <td id=\"T_da0bf_row0_col1\" class=\"data row0 col1\" >1</td>\n",
       "      <td id=\"T_da0bf_row0_col2\" class=\"data row0 col2\" >sub-02_task-simon_run-1_bold.nii.gz</td>\n",
       "    </tr>\n",
       "    <tr>\n",
       "      <td id=\"T_da0bf_row1_col0\" class=\"data row1 col0\" >02</td>\n",
       "      <td id=\"T_da0bf_row1_col1\" class=\"data row1 col1\" >2</td>\n",
       "      <td id=\"T_da0bf_row1_col2\" class=\"data row1 col2\" >sub-02_task-simon_run-2_bold.nii.gz</td>\n",
       "    </tr>\n",
       "  </tbody>\n",
       "</table>\n"
      ],
      "text/plain": [
       "<pandas.io.formats.style.Styler at 0x7fe5e4cddc10>"
      ]
     },
     "metadata": {},
     "output_type": "display_data"
    },
    {
     "data": {
      "text/html": [
       "<style type=\"text/css\">\n",
       "</style>\n",
       "<table id=\"T_67f1f\">\n",
       "  <thead>\n",
       "    <tr>\n",
       "      <th id=\"T_67f1f_level0_col0\" class=\"col_heading level0 col0\" >subject</th>\n",
       "      <th id=\"T_67f1f_level0_col1\" class=\"col_heading level0 col1\" >run</th>\n",
       "      <th id=\"T_67f1f_level0_col2\" class=\"col_heading level0 col2\" >image</th>\n",
       "    </tr>\n",
       "  </thead>\n",
       "  <tbody>\n",
       "    <tr>\n",
       "      <td id=\"T_67f1f_row0_col0\" class=\"data row0 col0\" >03</td>\n",
       "      <td id=\"T_67f1f_row0_col1\" class=\"data row0 col1\" >1</td>\n",
       "      <td id=\"T_67f1f_row0_col2\" class=\"data row0 col2\" >sub-03_task-simon_run-1_bold.nii.gz</td>\n",
       "    </tr>\n",
       "    <tr>\n",
       "      <td id=\"T_67f1f_row1_col0\" class=\"data row1 col0\" >03</td>\n",
       "      <td id=\"T_67f1f_row1_col1\" class=\"data row1 col1\" >2</td>\n",
       "      <td id=\"T_67f1f_row1_col2\" class=\"data row1 col2\" >sub-03_task-simon_run-2_bold.nii.gz</td>\n",
       "    </tr>\n",
       "  </tbody>\n",
       "</table>\n"
      ],
      "text/plain": [
       "<pandas.io.formats.style.Styler at 0x7fe5e4cdd4f0>"
      ]
     },
     "metadata": {},
     "output_type": "display_data"
    }
   ],
   "source": [
    "display_groups(inputs, \"subject\")"
   ]
  },
  {
   "cell_type": "markdown",
   "id": "15825903",
   "metadata": {},
   "source": [
    "If we `GroupBy` *run*, all images with the same *run* ID would be grouped together, \n",
    "resulting in two groups, one for each distinct group ID:"
   ]
  },
  {
   "cell_type": "code",
   "execution_count": 3,
   "id": "e9992007",
   "metadata": {
    "tags": [
     "remove_input"
    ]
   },
   "outputs": [
    {
     "data": {
      "text/html": [
       "<style type=\"text/css\">\n",
       "</style>\n",
       "<table id=\"T_b8a22\">\n",
       "  <thead>\n",
       "    <tr>\n",
       "      <th id=\"T_b8a22_level0_col0\" class=\"col_heading level0 col0\" >subject</th>\n",
       "      <th id=\"T_b8a22_level0_col1\" class=\"col_heading level0 col1\" >run</th>\n",
       "      <th id=\"T_b8a22_level0_col2\" class=\"col_heading level0 col2\" >image</th>\n",
       "    </tr>\n",
       "  </thead>\n",
       "  <tbody>\n",
       "    <tr>\n",
       "      <td id=\"T_b8a22_row0_col0\" class=\"data row0 col0\" >01</td>\n",
       "      <td id=\"T_b8a22_row0_col1\" class=\"data row0 col1\" >1</td>\n",
       "      <td id=\"T_b8a22_row0_col2\" class=\"data row0 col2\" >sub-01_task-simon_run-1_bold.nii.gz</td>\n",
       "    </tr>\n",
       "    <tr>\n",
       "      <td id=\"T_b8a22_row1_col0\" class=\"data row1 col0\" >02</td>\n",
       "      <td id=\"T_b8a22_row1_col1\" class=\"data row1 col1\" >1</td>\n",
       "      <td id=\"T_b8a22_row1_col2\" class=\"data row1 col2\" >sub-02_task-simon_run-1_bold.nii.gz</td>\n",
       "    </tr>\n",
       "    <tr>\n",
       "      <td id=\"T_b8a22_row2_col0\" class=\"data row2 col0\" >03</td>\n",
       "      <td id=\"T_b8a22_row2_col1\" class=\"data row2 col1\" >1</td>\n",
       "      <td id=\"T_b8a22_row2_col2\" class=\"data row2 col2\" >sub-03_task-simon_run-1_bold.nii.gz</td>\n",
       "    </tr>\n",
       "  </tbody>\n",
       "</table>\n"
      ],
      "text/plain": [
       "<pandas.io.formats.style.Styler at 0x7fe5e4c99400>"
      ]
     },
     "metadata": {},
     "output_type": "display_data"
    },
    {
     "data": {
      "text/html": [
       "<style type=\"text/css\">\n",
       "</style>\n",
       "<table id=\"T_de4ba\">\n",
       "  <thead>\n",
       "    <tr>\n",
       "      <th id=\"T_de4ba_level0_col0\" class=\"col_heading level0 col0\" >subject</th>\n",
       "      <th id=\"T_de4ba_level0_col1\" class=\"col_heading level0 col1\" >run</th>\n",
       "      <th id=\"T_de4ba_level0_col2\" class=\"col_heading level0 col2\" >image</th>\n",
       "    </tr>\n",
       "  </thead>\n",
       "  <tbody>\n",
       "    <tr>\n",
       "      <td id=\"T_de4ba_row0_col0\" class=\"data row0 col0\" >01</td>\n",
       "      <td id=\"T_de4ba_row0_col1\" class=\"data row0 col1\" >2</td>\n",
       "      <td id=\"T_de4ba_row0_col2\" class=\"data row0 col2\" >sub-01_task-simon_run-2_bold.nii.gz</td>\n",
       "    </tr>\n",
       "    <tr>\n",
       "      <td id=\"T_de4ba_row1_col0\" class=\"data row1 col0\" >02</td>\n",
       "      <td id=\"T_de4ba_row1_col1\" class=\"data row1 col1\" >2</td>\n",
       "      <td id=\"T_de4ba_row1_col2\" class=\"data row1 col2\" >sub-02_task-simon_run-2_bold.nii.gz</td>\n",
       "    </tr>\n",
       "    <tr>\n",
       "      <td id=\"T_de4ba_row2_col0\" class=\"data row2 col0\" >03</td>\n",
       "      <td id=\"T_de4ba_row2_col1\" class=\"data row2 col1\" >2</td>\n",
       "      <td id=\"T_de4ba_row2_col2\" class=\"data row2 col2\" >sub-03_task-simon_run-2_bold.nii.gz</td>\n",
       "    </tr>\n",
       "  </tbody>\n",
       "</table>\n"
      ],
      "text/plain": [
       "<pandas.io.formats.style.Styler at 0x7fe5e4cdd4f0>"
      ]
     },
     "metadata": {},
     "output_type": "display_data"
    }
   ],
   "source": [
    "display_groups(inputs, \"run\")"
   ]
  },
  {
   "cell_type": "markdown",
   "id": "777183d0",
   "metadata": {},
   "source": [
    "However, since we want to model each `BOLD` image separately, \n",
    "we must `GroupBy` **both _subject_ and _run_**, \n",
    "resulting in six groups with a single image each."
   ]
  },
  {
   "cell_type": "code",
   "execution_count": 4,
   "id": "3a02b07d",
   "metadata": {
    "tags": [
     "remove_input"
    ]
   },
   "outputs": [
    {
     "data": {
      "text/html": [
       "<style type=\"text/css\">\n",
       "</style>\n",
       "<table id=\"T_44091\">\n",
       "  <thead>\n",
       "    <tr>\n",
       "      <th id=\"T_44091_level0_col0\" class=\"col_heading level0 col0\" >subject</th>\n",
       "      <th id=\"T_44091_level0_col1\" class=\"col_heading level0 col1\" >run</th>\n",
       "      <th id=\"T_44091_level0_col2\" class=\"col_heading level0 col2\" >image</th>\n",
       "    </tr>\n",
       "  </thead>\n",
       "  <tbody>\n",
       "    <tr>\n",
       "      <td id=\"T_44091_row0_col0\" class=\"data row0 col0\" >01</td>\n",
       "      <td id=\"T_44091_row0_col1\" class=\"data row0 col1\" >1</td>\n",
       "      <td id=\"T_44091_row0_col2\" class=\"data row0 col2\" >sub-01_task-simon_run-1_bold.nii.gz</td>\n",
       "    </tr>\n",
       "  </tbody>\n",
       "</table>\n"
      ],
      "text/plain": [
       "<pandas.io.formats.style.Styler at 0x7fe5e4cd56d0>"
      ]
     },
     "metadata": {},
     "output_type": "display_data"
    },
    {
     "data": {
      "text/html": [
       "<style type=\"text/css\">\n",
       "</style>\n",
       "<table id=\"T_2e523\">\n",
       "  <thead>\n",
       "    <tr>\n",
       "      <th id=\"T_2e523_level0_col0\" class=\"col_heading level0 col0\" >subject</th>\n",
       "      <th id=\"T_2e523_level0_col1\" class=\"col_heading level0 col1\" >run</th>\n",
       "      <th id=\"T_2e523_level0_col2\" class=\"col_heading level0 col2\" >image</th>\n",
       "    </tr>\n",
       "  </thead>\n",
       "  <tbody>\n",
       "    <tr>\n",
       "      <td id=\"T_2e523_row0_col0\" class=\"data row0 col0\" >02</td>\n",
       "      <td id=\"T_2e523_row0_col1\" class=\"data row0 col1\" >1</td>\n",
       "      <td id=\"T_2e523_row0_col2\" class=\"data row0 col2\" >sub-02_task-simon_run-1_bold.nii.gz</td>\n",
       "    </tr>\n",
       "  </tbody>\n",
       "</table>\n"
      ],
      "text/plain": [
       "<pandas.io.formats.style.Styler at 0x7fe5e4cd5a90>"
      ]
     },
     "metadata": {},
     "output_type": "display_data"
    },
    {
     "data": {
      "text/html": [
       "<style type=\"text/css\">\n",
       "</style>\n",
       "<table id=\"T_be3ee\">\n",
       "  <thead>\n",
       "    <tr>\n",
       "      <th id=\"T_be3ee_level0_col0\" class=\"col_heading level0 col0\" >subject</th>\n",
       "      <th id=\"T_be3ee_level0_col1\" class=\"col_heading level0 col1\" >run</th>\n",
       "      <th id=\"T_be3ee_level0_col2\" class=\"col_heading level0 col2\" >image</th>\n",
       "    </tr>\n",
       "  </thead>\n",
       "  <tbody>\n",
       "    <tr>\n",
       "      <td id=\"T_be3ee_row0_col0\" class=\"data row0 col0\" >03</td>\n",
       "      <td id=\"T_be3ee_row0_col1\" class=\"data row0 col1\" >1</td>\n",
       "      <td id=\"T_be3ee_row0_col2\" class=\"data row0 col2\" >sub-03_task-simon_run-1_bold.nii.gz</td>\n",
       "    </tr>\n",
       "  </tbody>\n",
       "</table>\n"
      ],
      "text/plain": [
       "<pandas.io.formats.style.Styler at 0x7fe5e4cd56d0>"
      ]
     },
     "metadata": {},
     "output_type": "display_data"
    },
    {
     "data": {
      "text/html": [
       "<style type=\"text/css\">\n",
       "</style>\n",
       "<table id=\"T_9ceb7\">\n",
       "  <thead>\n",
       "    <tr>\n",
       "      <th id=\"T_9ceb7_level0_col0\" class=\"col_heading level0 col0\" >subject</th>\n",
       "      <th id=\"T_9ceb7_level0_col1\" class=\"col_heading level0 col1\" >run</th>\n",
       "      <th id=\"T_9ceb7_level0_col2\" class=\"col_heading level0 col2\" >image</th>\n",
       "    </tr>\n",
       "  </thead>\n",
       "  <tbody>\n",
       "    <tr>\n",
       "      <td id=\"T_9ceb7_row0_col0\" class=\"data row0 col0\" >01</td>\n",
       "      <td id=\"T_9ceb7_row0_col1\" class=\"data row0 col1\" >2</td>\n",
       "      <td id=\"T_9ceb7_row0_col2\" class=\"data row0 col2\" >sub-01_task-simon_run-2_bold.nii.gz</td>\n",
       "    </tr>\n",
       "  </tbody>\n",
       "</table>\n"
      ],
      "text/plain": [
       "<pandas.io.formats.style.Styler at 0x7fe5e4cd5a90>"
      ]
     },
     "metadata": {},
     "output_type": "display_data"
    },
    {
     "data": {
      "text/html": [
       "<style type=\"text/css\">\n",
       "</style>\n",
       "<table id=\"T_b4ffa\">\n",
       "  <thead>\n",
       "    <tr>\n",
       "      <th id=\"T_b4ffa_level0_col0\" class=\"col_heading level0 col0\" >subject</th>\n",
       "      <th id=\"T_b4ffa_level0_col1\" class=\"col_heading level0 col1\" >run</th>\n",
       "      <th id=\"T_b4ffa_level0_col2\" class=\"col_heading level0 col2\" >image</th>\n",
       "    </tr>\n",
       "  </thead>\n",
       "  <tbody>\n",
       "    <tr>\n",
       "      <td id=\"T_b4ffa_row0_col0\" class=\"data row0 col0\" >02</td>\n",
       "      <td id=\"T_b4ffa_row0_col1\" class=\"data row0 col1\" >2</td>\n",
       "      <td id=\"T_b4ffa_row0_col2\" class=\"data row0 col2\" >sub-02_task-simon_run-2_bold.nii.gz</td>\n",
       "    </tr>\n",
       "  </tbody>\n",
       "</table>\n"
      ],
      "text/plain": [
       "<pandas.io.formats.style.Styler at 0x7fe5e4cd56d0>"
      ]
     },
     "metadata": {},
     "output_type": "display_data"
    },
    {
     "data": {
      "text/html": [
       "<style type=\"text/css\">\n",
       "</style>\n",
       "<table id=\"T_40b15\">\n",
       "  <thead>\n",
       "    <tr>\n",
       "      <th id=\"T_40b15_level0_col0\" class=\"col_heading level0 col0\" >subject</th>\n",
       "      <th id=\"T_40b15_level0_col1\" class=\"col_heading level0 col1\" >run</th>\n",
       "      <th id=\"T_40b15_level0_col2\" class=\"col_heading level0 col2\" >image</th>\n",
       "    </tr>\n",
       "  </thead>\n",
       "  <tbody>\n",
       "    <tr>\n",
       "      <td id=\"T_40b15_row0_col0\" class=\"data row0 col0\" >03</td>\n",
       "      <td id=\"T_40b15_row0_col1\" class=\"data row0 col1\" >2</td>\n",
       "      <td id=\"T_40b15_row0_col2\" class=\"data row0 col2\" >sub-03_task-simon_run-2_bold.nii.gz</td>\n",
       "    </tr>\n",
       "  </tbody>\n",
       "</table>\n"
      ],
      "text/plain": [
       "<pandas.io.formats.style.Styler at 0x7fe5b69a9eb0>"
      ]
     },
     "metadata": {},
     "output_type": "display_data"
    }
   ],
   "source": [
    "display_groups(inputs, [\"run\", \"subject\"])"
   ]
  },
  {
   "cell_type": "markdown",
   "id": "40a2b792",
   "metadata": {},
   "source": [
    "### Subject level Node\n",
    "\n",
    "At this point, we have defined a `Model` that will be fit separate to each grouping-- \n",
    "in this case a separate time-series model for each `run`. \n",
    "\n",
    "Next, we want to define a `subject` level node \n",
    "to pool together estimates from this `Node` for each `subject` \n",
    "using a fixed-effects model. \n",
    "\n",
    "```{literalinclude} examples/model-walkthrough_smdl.json\n",
    ":language: JSON\n",
    ":lines: 20-26\n",
    "```\n",
    "\n",
    "```{note}\n",
    "By default, `Nodes` are linked in sequential order, \n",
    "with all the `Contrast` outputs from a `Node` available to the subsequent `Node`.\n",
    "```\n",
    "\n",
    "#### From Run Outputs to Subject Inputs\n",
    "\n",
    "We need to use `GroupBy` to define how to group the outputs from the `Run` node\n",
    "as inputs to the `Subject` level:\n",
    "\n",
    "```{literalinclude} examples/model-walkthrough_smdl.json\n",
    ":language: JSON\n",
    ":lines: 23\n",
    "```\n",
    "\n",
    "Here we are specifying that all images belonging to a single `subject` \n",
    "and from a single `contrast` should be grouped into a unit of analysis.\n",
    "\n",
    "Note that with 3 subjects and 2 runs, we will have 6 groups of output images from the `Run` node. \n",
    "Given two types of images (`variance` and `effect`), \n",
    "this results in 12 images that would be grouped as follows:"
   ]
  },
  {
   "cell_type": "code",
   "execution_count": 5,
   "id": "bc17dbc9",
   "metadata": {
    "tags": [
     "remove_input"
    ]
   },
   "outputs": [
    {
     "data": {
      "text/html": [
       "<style type=\"text/css\">\n",
       "</style>\n",
       "<table id=\"T_e5ee0\">\n",
       "  <thead>\n",
       "    <tr>\n",
       "      <th id=\"T_e5ee0_level0_col0\" class=\"col_heading level0 col0\" >subject</th>\n",
       "      <th id=\"T_e5ee0_level0_col1\" class=\"col_heading level0 col1\" >run</th>\n",
       "      <th id=\"T_e5ee0_level0_col2\" class=\"col_heading level0 col2\" >contrast</th>\n",
       "      <th id=\"T_e5ee0_level0_col3\" class=\"col_heading level0 col3\" >image</th>\n",
       "    </tr>\n",
       "  </thead>\n",
       "  <tbody>\n",
       "    <tr>\n",
       "      <td id=\"T_e5ee0_row0_col0\" class=\"data row0 col0\" >01</td>\n",
       "      <td id=\"T_e5ee0_row0_col1\" class=\"data row0 col1\" >1</td>\n",
       "      <td id=\"T_e5ee0_row0_col2\" class=\"data row0 col2\" >IvC</td>\n",
       "      <td id=\"T_e5ee0_row0_col3\" class=\"data row0 col3\" >sub-01_task-simon_run-1_contrast-IvC_stat-effect_statmap.nii</td>\n",
       "    </tr>\n",
       "    <tr>\n",
       "      <td id=\"T_e5ee0_row1_col0\" class=\"data row1 col0\" >01</td>\n",
       "      <td id=\"T_e5ee0_row1_col1\" class=\"data row1 col1\" >1</td>\n",
       "      <td id=\"T_e5ee0_row1_col2\" class=\"data row1 col2\" >IvC</td>\n",
       "      <td id=\"T_e5ee0_row1_col3\" class=\"data row1 col3\" >sub-01_task-simon_run-1_contrast-IvC_stat-variance_statmap.nii</td>\n",
       "    </tr>\n",
       "    <tr>\n",
       "      <td id=\"T_e5ee0_row2_col0\" class=\"data row2 col0\" >01</td>\n",
       "      <td id=\"T_e5ee0_row2_col1\" class=\"data row2 col1\" >2</td>\n",
       "      <td id=\"T_e5ee0_row2_col2\" class=\"data row2 col2\" >IvC</td>\n",
       "      <td id=\"T_e5ee0_row2_col3\" class=\"data row2 col3\" >sub-01_task-simon_run-2_contrast-IvC_stat-effect_statmap.nii</td>\n",
       "    </tr>\n",
       "    <tr>\n",
       "      <td id=\"T_e5ee0_row3_col0\" class=\"data row3 col0\" >01</td>\n",
       "      <td id=\"T_e5ee0_row3_col1\" class=\"data row3 col1\" >2</td>\n",
       "      <td id=\"T_e5ee0_row3_col2\" class=\"data row3 col2\" >IvC</td>\n",
       "      <td id=\"T_e5ee0_row3_col3\" class=\"data row3 col3\" >sub-01_task-simon_run-2_contrast-IvC_stat-variance_statmap.nii</td>\n",
       "    </tr>\n",
       "  </tbody>\n",
       "</table>\n"
      ],
      "text/plain": [
       "<pandas.io.formats.style.Styler at 0x7fe5b6852af0>"
      ]
     },
     "metadata": {},
     "output_type": "display_data"
    },
    {
     "data": {
      "text/html": [
       "<style type=\"text/css\">\n",
       "</style>\n",
       "<table id=\"T_517c8\">\n",
       "  <thead>\n",
       "    <tr>\n",
       "      <th id=\"T_517c8_level0_col0\" class=\"col_heading level0 col0\" >subject</th>\n",
       "      <th id=\"T_517c8_level0_col1\" class=\"col_heading level0 col1\" >run</th>\n",
       "      <th id=\"T_517c8_level0_col2\" class=\"col_heading level0 col2\" >contrast</th>\n",
       "      <th id=\"T_517c8_level0_col3\" class=\"col_heading level0 col3\" >image</th>\n",
       "    </tr>\n",
       "  </thead>\n",
       "  <tbody>\n",
       "    <tr>\n",
       "      <td id=\"T_517c8_row0_col0\" class=\"data row0 col0\" >02</td>\n",
       "      <td id=\"T_517c8_row0_col1\" class=\"data row0 col1\" >1</td>\n",
       "      <td id=\"T_517c8_row0_col2\" class=\"data row0 col2\" >IvC</td>\n",
       "      <td id=\"T_517c8_row0_col3\" class=\"data row0 col3\" >sub-02_task-simon_run-1_contrast-IvC_stat-effect_statmap.nii</td>\n",
       "    </tr>\n",
       "    <tr>\n",
       "      <td id=\"T_517c8_row1_col0\" class=\"data row1 col0\" >02</td>\n",
       "      <td id=\"T_517c8_row1_col1\" class=\"data row1 col1\" >1</td>\n",
       "      <td id=\"T_517c8_row1_col2\" class=\"data row1 col2\" >IvC</td>\n",
       "      <td id=\"T_517c8_row1_col3\" class=\"data row1 col3\" >sub-02_task-simon_run-1_contrast-IvC_stat-variance_statmap.nii</td>\n",
       "    </tr>\n",
       "    <tr>\n",
       "      <td id=\"T_517c8_row2_col0\" class=\"data row2 col0\" >02</td>\n",
       "      <td id=\"T_517c8_row2_col1\" class=\"data row2 col1\" >2</td>\n",
       "      <td id=\"T_517c8_row2_col2\" class=\"data row2 col2\" >IvC</td>\n",
       "      <td id=\"T_517c8_row2_col3\" class=\"data row2 col3\" >sub-02_task-simon_run-2_contrast-IvC_stat-effect_statmap.nii</td>\n",
       "    </tr>\n",
       "    <tr>\n",
       "      <td id=\"T_517c8_row3_col0\" class=\"data row3 col0\" >02</td>\n",
       "      <td id=\"T_517c8_row3_col1\" class=\"data row3 col1\" >2</td>\n",
       "      <td id=\"T_517c8_row3_col2\" class=\"data row3 col2\" >IvC</td>\n",
       "      <td id=\"T_517c8_row3_col3\" class=\"data row3 col3\" >sub-02_task-simon_run-2_contrast-IvC_stat-variance_statmap.nii</td>\n",
       "    </tr>\n",
       "  </tbody>\n",
       "</table>\n"
      ],
      "text/plain": [
       "<pandas.io.formats.style.Styler at 0x7fe5b6852e20>"
      ]
     },
     "metadata": {},
     "output_type": "display_data"
    },
    {
     "data": {
      "text/html": [
       "<style type=\"text/css\">\n",
       "</style>\n",
       "<table id=\"T_b62f7\">\n",
       "  <thead>\n",
       "    <tr>\n",
       "      <th id=\"T_b62f7_level0_col0\" class=\"col_heading level0 col0\" >subject</th>\n",
       "      <th id=\"T_b62f7_level0_col1\" class=\"col_heading level0 col1\" >run</th>\n",
       "      <th id=\"T_b62f7_level0_col2\" class=\"col_heading level0 col2\" >contrast</th>\n",
       "      <th id=\"T_b62f7_level0_col3\" class=\"col_heading level0 col3\" >image</th>\n",
       "    </tr>\n",
       "  </thead>\n",
       "  <tbody>\n",
       "    <tr>\n",
       "      <td id=\"T_b62f7_row0_col0\" class=\"data row0 col0\" >03</td>\n",
       "      <td id=\"T_b62f7_row0_col1\" class=\"data row0 col1\" >1</td>\n",
       "      <td id=\"T_b62f7_row0_col2\" class=\"data row0 col2\" >IvC</td>\n",
       "      <td id=\"T_b62f7_row0_col3\" class=\"data row0 col3\" >sub-03_task-simon_run-1_contrast-IvC_stat-effect_statmap.nii</td>\n",
       "    </tr>\n",
       "    <tr>\n",
       "      <td id=\"T_b62f7_row1_col0\" class=\"data row1 col0\" >03</td>\n",
       "      <td id=\"T_b62f7_row1_col1\" class=\"data row1 col1\" >1</td>\n",
       "      <td id=\"T_b62f7_row1_col2\" class=\"data row1 col2\" >IvC</td>\n",
       "      <td id=\"T_b62f7_row1_col3\" class=\"data row1 col3\" >sub-03_task-simon_run-1_contrast-IvC_stat-variance_statmap.nii</td>\n",
       "    </tr>\n",
       "    <tr>\n",
       "      <td id=\"T_b62f7_row2_col0\" class=\"data row2 col0\" >03</td>\n",
       "      <td id=\"T_b62f7_row2_col1\" class=\"data row2 col1\" >2</td>\n",
       "      <td id=\"T_b62f7_row2_col2\" class=\"data row2 col2\" >IvC</td>\n",
       "      <td id=\"T_b62f7_row2_col3\" class=\"data row2 col3\" >sub-03_task-simon_run-2_contrast-IvC_stat-effect_statmap.nii</td>\n",
       "    </tr>\n",
       "    <tr>\n",
       "      <td id=\"T_b62f7_row3_col0\" class=\"data row3 col0\" >03</td>\n",
       "      <td id=\"T_b62f7_row3_col1\" class=\"data row3 col1\" >2</td>\n",
       "      <td id=\"T_b62f7_row3_col2\" class=\"data row3 col2\" >IvC</td>\n",
       "      <td id=\"T_b62f7_row3_col3\" class=\"data row3 col3\" >sub-03_task-simon_run-2_contrast-IvC_stat-variance_statmap.nii</td>\n",
       "    </tr>\n",
       "  </tbody>\n",
       "</table>\n"
      ],
      "text/plain": [
       "<pandas.io.formats.style.Styler at 0x7fe5e4c6dbe0>"
      ]
     },
     "metadata": {},
     "output_type": "display_data"
    }
   ],
   "source": [
    "outputs = pd.DataFrame.from_records(\n",
    "  [{\n",
    "     \"subject\": subject,\n",
    "     \"run\": run,\n",
    "     \"contrast\": contrast,\n",
    "     \"image\": f\"sub-{subject}_task-simon_run-{run}_\"\n",
    "              f\"contrast-{contrast}_stat-{stat}_statmap.nii\",\n",
    "   }\n",
    "   for subject in subjects for run in runs\n",
    "   for contrast in contrasts for stat in stats]\n",
    ")\n",
    "display_groups(outputs, [\"subject\", \"contrast\"])"
   ]
  },
  {
   "cell_type": "markdown",
   "id": "ce1a8550",
   "metadata": {},
   "source": [
    "```{tip}\n",
    "Although there is only one `contrast`, we include `contrast` as a grouping variable to be explicit.\n",
    "```\n",
    "\n",
    "#### Subject Model\n",
    "\n",
    "We can now specify the `Subject` level `Model`. \n",
    "\n",
    "```{literalinclude} examples/model-walkthrough_smdl.json\n",
    ":language: JSON\n",
    ":start-at: '\"Model\": {\"X\": [1], \"Type\": \"meta\"}'\n",
    ":lines: 1-2\n",
    "```\n",
    "\n",
    "Since our intent is to estimate the _mean effect_ for each subject, \n",
    "we only need an intercept in our model. \n",
    "We specify the `\"Type\"` to be `Meta`, which is a special type to identify fixed-effects models.\n",
    "\n",
    "```{note}\n",
    "`1` is a special variable used to represent the intercept.\n",
    "```\n",
    "\n",
    "Remember that we must specify `Contrasts` in order to produce outputs for the next `Node`. \n",
    "`DummyContrasts` is a convenience function which will create contrasts \n",
    "with the weights `[1]` for all modeled inputs. \n",
    "Since we are not comparing anything at the subject-level \n",
    "and simply want to pass forward the estimates generated by the fixed-effects model, \n",
    "this is useful and saves us from specifying a more verbose (but identical) `Contrast`.\n",
    "\n",
    "### Dataset level Node\n",
    "\n",
    "We are ready to perform a one-sample t-test to estimate population-level effects\n",
    "for the _IvC_ `Contrast`. \n",
    "We refer to this level as the `Dataset` level.\n",
    "\n",
    "```{literalinclude} examples/model-walkthrough_smdl.json\n",
    ":language: JSON\n",
    ":start-at: '\"Level\": \"Dataset\",'\n",
    ":lines: 1-3\n",
    "```\n",
    "\n",
    "Here we only need to `GroupBy: ['contrast']` as we want to compute a separate estimate \n",
    "for each contrast, but want to include all subjects in the same analysis. \n",
    "\n",
    "Since we only have one `contrast`, all the incoming subject-level images will be grouped together:"
   ]
  },
  {
   "cell_type": "code",
   "execution_count": 6,
   "id": "e638342a",
   "metadata": {
    "tags": [
     "remove_input"
    ]
   },
   "outputs": [
    {
     "data": {
      "text/html": [
       "<style type=\"text/css\">\n",
       "</style>\n",
       "<table id=\"T_d234f\">\n",
       "  <thead>\n",
       "    <tr>\n",
       "      <th id=\"T_d234f_level0_col0\" class=\"col_heading level0 col0\" >subject</th>\n",
       "      <th id=\"T_d234f_level0_col1\" class=\"col_heading level0 col1\" >contrast</th>\n",
       "      <th id=\"T_d234f_level0_col2\" class=\"col_heading level0 col2\" >image</th>\n",
       "    </tr>\n",
       "  </thead>\n",
       "  <tbody>\n",
       "    <tr>\n",
       "      <td id=\"T_d234f_row0_col0\" class=\"data row0 col0\" >01</td>\n",
       "      <td id=\"T_d234f_row0_col1\" class=\"data row0 col1\" >IvC</td>\n",
       "      <td id=\"T_d234f_row0_col2\" class=\"data row0 col2\" >sub-01_task-simon_contrast-IvC_stat-effect_statmap.nii</td>\n",
       "    </tr>\n",
       "    <tr>\n",
       "      <td id=\"T_d234f_row1_col0\" class=\"data row1 col0\" >01</td>\n",
       "      <td id=\"T_d234f_row1_col1\" class=\"data row1 col1\" >IvC</td>\n",
       "      <td id=\"T_d234f_row1_col2\" class=\"data row1 col2\" >sub-01_task-simon_contrast-IvC_stat-variance_statmap.nii</td>\n",
       "    </tr>\n",
       "    <tr>\n",
       "      <td id=\"T_d234f_row2_col0\" class=\"data row2 col0\" >02</td>\n",
       "      <td id=\"T_d234f_row2_col1\" class=\"data row2 col1\" >IvC</td>\n",
       "      <td id=\"T_d234f_row2_col2\" class=\"data row2 col2\" >sub-02_task-simon_contrast-IvC_stat-effect_statmap.nii</td>\n",
       "    </tr>\n",
       "    <tr>\n",
       "      <td id=\"T_d234f_row3_col0\" class=\"data row3 col0\" >02</td>\n",
       "      <td id=\"T_d234f_row3_col1\" class=\"data row3 col1\" >IvC</td>\n",
       "      <td id=\"T_d234f_row3_col2\" class=\"data row3 col2\" >sub-02_task-simon_contrast-IvC_stat-variance_statmap.nii</td>\n",
       "    </tr>\n",
       "    <tr>\n",
       "      <td id=\"T_d234f_row4_col0\" class=\"data row4 col0\" >03</td>\n",
       "      <td id=\"T_d234f_row4_col1\" class=\"data row4 col1\" >IvC</td>\n",
       "      <td id=\"T_d234f_row4_col2\" class=\"data row4 col2\" >sub-03_task-simon_contrast-IvC_stat-effect_statmap.nii</td>\n",
       "    </tr>\n",
       "    <tr>\n",
       "      <td id=\"T_d234f_row5_col0\" class=\"data row5 col0\" >03</td>\n",
       "      <td id=\"T_d234f_row5_col1\" class=\"data row5 col1\" >IvC</td>\n",
       "      <td id=\"T_d234f_row5_col2\" class=\"data row5 col2\" >sub-03_task-simon_contrast-IvC_stat-variance_statmap.nii</td>\n",
       "    </tr>\n",
       "  </tbody>\n",
       "</table>\n"
      ],
      "text/plain": [
       "<pandas.io.formats.style.Styler at 0x7fe5b68524f0>"
      ]
     },
     "metadata": {},
     "output_type": "display_data"
    }
   ],
   "source": [
    "outputs = pd.DataFrame.from_records(\n",
    "  [{\n",
    "     \"subject\": subject,\n",
    "     \"contrast\": contrast,\n",
    "     \"image\": f\"sub-{subject}_task-simon_\"\n",
    "              f\"contrast-{contrast}_stat-{stat}_statmap.nii\",\n",
    "   }\n",
    "   for subject in subjects\n",
    "   for contrast in contrasts for stat in stats]\n",
    ")\n",
    "display_groups(outputs, [\"contrast\"])"
   ]
  },
  {
   "cell_type": "markdown",
   "id": "9b530399",
   "metadata": {},
   "source": [
    "As before, we can specify an intercept-only model, but of type `glm` \n",
    "since we want to perform a random-effects analysis. \n",
    "We can again use `DummyContrasts` to specify a simple one-sample t-test contrast \n",
    "on the incoming `IvC` subject-level contrasts. \n",
    "\n",
    "\n",
    "```{literalinclude} examples/model-walkthrough_smdl.json\n",
    ":language: JSON\n",
    ":lines: 31-32\n",
    "```\n",
    "\n",
    "The outputs of this node collapse across subjects, leaving a single effect/variance pair:"
   ]
  },
  {
   "cell_type": "code",
   "execution_count": 7,
   "id": "5d70599e",
   "metadata": {
    "tags": [
     "remove_input"
    ]
   },
   "outputs": [
    {
     "data": {
      "text/html": [
       "<style type=\"text/css\">\n",
       "</style>\n",
       "<table id=\"T_d9cfa\">\n",
       "  <thead>\n",
       "    <tr>\n",
       "      <th id=\"T_d9cfa_level0_col0\" class=\"col_heading level0 col0\" >contrast</th>\n",
       "      <th id=\"T_d9cfa_level0_col1\" class=\"col_heading level0 col1\" >image</th>\n",
       "    </tr>\n",
       "  </thead>\n",
       "  <tbody>\n",
       "    <tr>\n",
       "      <td id=\"T_d9cfa_row0_col0\" class=\"data row0 col0\" >IvC</td>\n",
       "      <td id=\"T_d9cfa_row0_col1\" class=\"data row0 col1\" >task-simon_contrast-IvC_stat-effect_statmap.nii</td>\n",
       "    </tr>\n",
       "    <tr>\n",
       "      <td id=\"T_d9cfa_row1_col0\" class=\"data row1 col0\" >IvC</td>\n",
       "      <td id=\"T_d9cfa_row1_col1\" class=\"data row1 col1\" >task-simon_contrast-IvC_stat-variance_statmap.nii</td>\n",
       "    </tr>\n",
       "  </tbody>\n",
       "</table>\n"
      ],
      "text/plain": [
       "<pandas.io.formats.style.Styler at 0x7fe5b6852610>"
      ]
     },
     "metadata": {},
     "output_type": "display_data"
    }
   ],
   "source": [
    "outputs = pd.DataFrame.from_records(\n",
    "  [{\n",
    "     \"contrast\": contrast,\n",
    "     \"image\": f\"task-simon_contrast-{contrast}_stat-{stat}_statmap.nii\",\n",
    "   }\n",
    "   for contrast in contrasts for stat in stats]\n",
    ")\n",
    "display_groups(outputs, [\"contrast\"])"
   ]
  },
  {
   "cell_type": "markdown",
   "id": "69fa5ff0",
   "metadata": {},
   "source": [
    "## Ready to run 🚀\n",
    "\n",
    "At this point, we have a fully specified model three-stage fMRI model. \n",
    "\n",
    "Our model will compute a run level incongruent-congruent contrast, \n",
    "pass forward the estimates to a fixed-effects model to pool subject estimates, \n",
    "and compute a dataset-level random-effects model and one-sample t-test \n",
    "to estimate population effects for the `IvC` contrast. \n",
    "\n",
    "We can now pair this *BIDS Stats Models* specification with a pre-processed derivative \n",
    "from the original raw dataset and hand these to a tool that supports *BIDS Stats Models* \n",
    "for **fully automated execution**.\n",
    "\n",
    "## Next up\n",
    "\n",
    "- Read the next section to dive deeper into advanced usage of *BIDS Stats Models* \n",
    "  to enable more complex models.\n",
    "- Check out tools like [FitLins](https://github.com/poldracklab/fitlins) \n",
    "  which implement *BIDS Stats Models* execution to learn how to run a *BIDS Stats Model*\n",
    "- Take a look at more example models in the  **[](model-zoo.md)**."
   ]
  }
 ],
 "metadata": {
  "jupytext": {
   "formats": "md:myst",
   "text_representation": {
    "extension": ".md",
    "format_name": "myst"
   }
  },
  "kernelspec": {
   "display_name": "Python 3",
   "language": "python",
   "name": "python3"
  },
  "language_info": {
   "codemirror_mode": {
    "name": "ipython",
    "version": 3
   },
   "file_extension": ".py",
   "mimetype": "text/x-python",
   "name": "python",
   "nbconvert_exporter": "python",
   "pygments_lexer": "ipython3",
   "version": "3.9.13"
  },
  "source_map": [
   11,
   156,
   182,
   186,
   191,
   196,
   201,
   207,
   212,
   250,
   266,
   314,
   329,
   344,
   356
  ]
 },
 "nbformat": 4,
 "nbformat_minor": 5
}